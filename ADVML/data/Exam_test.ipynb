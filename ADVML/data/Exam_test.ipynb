{
 "cells": [
  {
   "cell_type": "code",
   "id": "initial_id",
   "metadata": {
    "collapsed": true,
    "ExecuteTime": {
     "end_time": "2024-12-11T12:04:21.261559Z",
     "start_time": "2024-12-11T12:04:20.054249Z"
    }
   },
   "source": [
    "import numpy as np\n",
    "import pandas as pd\n",
    "\n",
    "train_data = pd.read_csv('data/MNIST_train.csv')\n",
    "test_data = pd.read_csv('data/MNIST_test.csv')"
   ],
   "outputs": [],
   "execution_count": 24
  },
  {
   "metadata": {},
   "cell_type": "markdown",
   "source": [
    "1. **Подготовка данных**\n",
    "\n",
    "а) Из тренировочного и тестового наборов данных отберите изображения, относящиеся к классу `0` и `1`."
   ],
   "id": "b8cf17f7d00b3a87"
  },
  {
   "metadata": {
    "ExecuteTime": {
     "end_time": "2024-12-11T12:04:21.311957Z",
     "start_time": "2024-12-11T12:04:21.261559Z"
    }
   },
   "cell_type": "code",
   "source": [
    "train_data = train_data[(train_data['label']==0) | (train_data['label']==1)]\n",
    "test_data = test_data[(test_data['label']==0) | (test_data['label']==1)]"
   ],
   "id": "b54f65e20475a402",
   "outputs": [],
   "execution_count": 25
  },
  {
   "metadata": {},
   "cell_type": "markdown",
   "source": [
    "б) Используйте метод главных компонент `PCA()` с параметром `svd_solver='full'` для понижения размерности полученных наборов данных. Определите, какое минимальное количество главных компонент `M` необходимо использовать, чтобы доля объясненной дисперсии превышала `0.9` (была строго больше указанного значения) на тренировочном наборе данных.\n",
    "\n",
    "*Введите количество главных компонент `M`:*"
   ],
   "id": "59feea849eddb37c"
  },
  {
   "metadata": {
    "ExecuteTime": {
     "end_time": "2024-12-11T12:04:21.792404Z",
     "start_time": "2024-12-11T12:04:21.320169Z"
    }
   },
   "cell_type": "code",
   "source": [
    "from sklearn.decomposition import PCA\n",
    "pca = PCA(svd_solver='full').fit(train_data.drop(['label'], axis=1))\n",
    "\n",
    "explained_variance = 0\n",
    "M = 0\n",
    "while explained_variance < 0.9:\n",
    "    explained_variance += pca.explained_variance_ratio_[M]\n",
    "    M += 1\n",
    "M"
   ],
   "id": "9cd5195c1151bf4f",
   "outputs": [
    {
     "data": {
      "text/plain": [
       "49"
      ]
     },
     "execution_count": 26,
     "metadata": {},
     "output_type": "execute_result"
    }
   ],
   "execution_count": 26
  },
  {
   "metadata": {},
   "cell_type": "markdown",
   "source": [
    "в) Найдите счеты, отвечающие найденным `M` главным компонентам для тренировочного и тестового наборов данных.\n",
    "\n",
    "*Введите координату относительно `1` главной компоненты для `1` изображения в тренировочном наборе данных:*"
   ],
   "id": "6f9735b3e47b9ad8"
  },
  {
   "metadata": {
    "ExecuteTime": {
     "end_time": "2024-12-11T12:05:23.345550Z",
     "start_time": "2024-12-11T12:05:22.792320Z"
    }
   },
   "cell_type": "code",
   "source": [
    "pca = PCA(svd_solver='full', n_components=M).fit(train_data.drop(['label'], axis=1))\n",
    "X_train, y_train = pca.transform(train_data.drop(['label'], axis=1)), train_data['label']\n",
    "X_test, y_test = pca.transform(test_data.drop(['label'], axis=1)), test_data['label']\n",
    "print(round(X_train[0][0], 3))"
   ],
   "id": "8f5b9bbd17bc354a",
   "outputs": [
    {
     "name": "stdout",
     "output_type": "stream",
     "text": [
      "-1119.663\n"
     ]
    }
   ],
   "execution_count": 29
  },
  {
   "metadata": {},
   "cell_type": "markdown",
   "source": [
    "2. **Обучение моделей**\n",
    "\n",
    "Используйте полученные данные (два класса и сниженная размерность) для обучение нижеуказанных моделей.\n",
    "\n",
    "Обучите модель `sklearn.ensemble.GradientBoostingClassifier` на тренировочных данных со следующими параметрами: `n_estimators=500, learning_rate=0.8, random_state=23, max_depth=2`.\n",
    "\n",
    "Постройте `classification_report` и матрицу ошибок для полученной модели на тестовых данных.\n",
    "\n",
    "**Введите значение точности модели:**"
   ],
   "id": "c546aef54cd9fdc9"
  },
  {
   "metadata": {
    "ExecuteTime": {
     "end_time": "2024-12-11T12:10:18.386991Z",
     "start_time": "2024-12-11T12:09:42.803311Z"
    }
   },
   "cell_type": "code",
   "source": [
    "from sklearn.ensemble import GradientBoostingClassifier\n",
    "from sklearn.metrics import classification_report\n",
    "model = GradientBoostingClassifier(n_estimators=500, learning_rate=0.8, random_state=23, max_depth=2)\n",
    "model.fit(X_train, y_train)\n",
    "\n",
    "y_pred = model.predict(X_test)\n",
    "print(classification_report(y_test, y_pred, digits=4))"
   ],
   "id": "23ec9217fb37685e",
   "outputs": [
    {
     "name": "stdout",
     "output_type": "stream",
     "text": [
      "              precision    recall  f1-score   support\n",
      "\n",
      "           0       1.00      1.00      1.00       980\n",
      "           1       1.00      1.00      1.00      1135\n",
      "\n",
      "    accuracy                           1.00      2115\n",
      "   macro avg       1.00      1.00      1.00      2115\n",
      "weighted avg       1.00      1.00      1.00      2115\n",
      "\n"
     ]
    }
   ],
   "execution_count": 31
  },
  {
   "metadata": {},
   "cell_type": "markdown",
   "source": "**Составьте матрицу ошибок. Определите tp:**",
   "id": "c7fd365aba931c0f"
  },
  {
   "metadata": {
    "ExecuteTime": {
     "end_time": "2024-12-11T12:11:57.443731Z",
     "start_time": "2024-12-11T12:11:57.433348Z"
    }
   },
   "cell_type": "code",
   "source": [
    "from sklearn.metrics import confusion_matrix\n",
    "tn, fp, fn, tp = confusion_matrix(y_test, y_pred).ravel()\n",
    "print(tp)"
   ],
   "id": "bda781157dccf12a",
   "outputs": [
    {
     "name": "stdout",
     "output_type": "stream",
     "text": [
      "1134\n"
     ]
    }
   ],
   "execution_count": 33
  }
 ],
 "metadata": {
  "kernelspec": {
   "display_name": "Python 3",
   "language": "python",
   "name": "python3"
  },
  "language_info": {
   "codemirror_mode": {
    "name": "ipython",
    "version": 2
   },
   "file_extension": ".py",
   "mimetype": "text/x-python",
   "name": "python",
   "nbconvert_exporter": "python",
   "pygments_lexer": "ipython2",
   "version": "2.7.6"
  }
 },
 "nbformat": 4,
 "nbformat_minor": 5
}
