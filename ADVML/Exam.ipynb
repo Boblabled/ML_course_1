{
 "cells": [
  {
   "cell_type": "code",
   "id": "initial_id",
   "metadata": {
    "collapsed": true,
    "ExecuteTime": {
     "end_time": "2024-12-11T19:25:09.466630Z",
     "start_time": "2024-12-11T19:25:04.523802Z"
    }
   },
   "source": [
    "import pandas as pd\n",
    "train_data = pd.read_csv('data/MNIST_train.csv')\n",
    "test_data = pd.read_csv('data/MNIST_test.csv')\n",
    "train_data = train_data[(train_data['label'] == 3) | (train_data['label'] == 4)]\n",
    "test_data = test_data[(test_data['label'] == 3) | (test_data['label'] == 4)]"
   ],
   "outputs": [],
   "execution_count": 1
  },
  {
   "metadata": {
    "ExecuteTime": {
     "end_time": "2024-12-11T19:28:48.068972Z",
     "start_time": "2024-12-11T19:28:47.936892Z"
    }
   },
   "cell_type": "code",
   "source": [
    "X_train, y_train = train_data.drop(\"label\", axis=1), train_data[\"label\"]\n",
    "X_test, y_test = test_data.drop(\"label\", axis=1), test_data[\"label\"]"
   ],
   "id": "ddc7bffc46d84391",
   "outputs": [],
   "execution_count": 5
  },
  {
   "metadata": {
    "ExecuteTime": {
     "end_time": "2024-12-11T19:28:50.993266Z",
     "start_time": "2024-12-11T19:28:49.400903Z"
    }
   },
   "cell_type": "code",
   "source": [
    "from sklearn.decomposition import PCA\n",
    "pca = PCA(svd_solver='full').fit(X_train)\n",
    "M = 0\n",
    "varience_ratio=0\n",
    "while varience_ratio < 0.8:\n",
    "    varience_ratio += pca.explained_variance_ratio_[M]\n",
    "    M += 1\n",
    "print(M)"
   ],
   "id": "316b9c6c09dfc2a7",
   "outputs": [
    {
     "name": "stdout",
     "output_type": "stream",
     "text": [
      "40\n"
     ]
    }
   ],
   "execution_count": 6
  },
  {
   "metadata": {
    "ExecuteTime": {
     "end_time": "2024-12-11T19:29:55.863189Z",
     "start_time": "2024-12-11T19:29:55.437523Z"
    }
   },
   "cell_type": "code",
   "source": [
    "pca = PCA(n_components=M).fit(X_train)\n",
    "X_train = pca.transform(X_train)\n",
    "X_test = pca.transform(X_test)"
   ],
   "id": "c5603990a4ed39c8",
   "outputs": [],
   "execution_count": 7
  },
  {
   "metadata": {},
   "cell_type": "markdown",
   "source": "",
   "id": "6132a18bb607f3d8"
  },
  {
   "metadata": {
    "ExecuteTime": {
     "end_time": "2024-12-11T19:30:40.915260Z",
     "start_time": "2024-12-11T19:30:40.909216Z"
    }
   },
   "cell_type": "code",
   "source": "X_train[0][8]",
   "id": "14a197c7c7ddb695",
   "outputs": [
    {
     "data": {
      "text/plain": [
       "310.6855276111118"
      ]
     },
     "execution_count": 9,
     "metadata": {},
     "output_type": "execute_result"
    }
   ],
   "execution_count": 9
  },
  {
   "metadata": {
    "ExecuteTime": {
     "end_time": "2024-12-11T19:45:31.792085Z",
     "start_time": "2024-12-11T19:45:30.735008Z"
    }
   },
   "cell_type": "code",
   "source": [
    "from sklearn.ensemble import VotingClassifier\n",
    "from sklearn.linear_model import LogisticRegression\n",
    "from sklearn.svm import SVC\n",
    "from sklearn.linear_model import SGDClassifier\n",
    "from sklearn.metrics import classification_report\n",
    "model = VotingClassifier(estimators=[(\"lr\", LogisticRegression(solver='liblinear', random_state=15)),\n",
    "                                     (\"svc\", SVC(random_state=15)),\n",
    "                                     (\"sgd\", SGDClassifier(random_state=15))],\n",
    "                         voting='hard')\n",
    "model.fit(X_train, y_train)\n",
    "y_pred = model.predict(X_test)\n",
    "print(classification_report(y_test, y_pred, digits=4))"
   ],
   "id": "42bcb71a77d643d5",
   "outputs": [
    {
     "name": "stdout",
     "output_type": "stream",
     "text": [
      "              precision    recall  f1-score   support\n",
      "\n",
      "           3     0.9990    0.9911    0.9950      1010\n",
      "           4     0.9909    0.9990    0.9949       982\n",
      "\n",
      "    accuracy                         0.9950      1992\n",
      "   macro avg     0.9950    0.9950    0.9950      1992\n",
      "weighted avg     0.9950    0.9950    0.9950      1992\n",
      "\n"
     ]
    }
   ],
   "execution_count": 18
  },
  {
   "metadata": {
    "ExecuteTime": {
     "end_time": "2024-12-11T19:45:50.482532Z",
     "start_time": "2024-12-11T19:45:50.476015Z"
    }
   },
   "cell_type": "code",
   "source": [
    "from sklearn.metrics import confusion_matrix\n",
    "tn, fp, fn, tp = confusion_matrix(y_test, y_pred).ravel()\n",
    "print(tn, fp)"
   ],
   "id": "7cf3aaec808e26b0",
   "outputs": [
    {
     "name": "stdout",
     "output_type": "stream",
     "text": [
      "1001 9\n"
     ]
    }
   ],
   "execution_count": 19
  },
  {
   "metadata": {
    "ExecuteTime": {
     "end_time": "2024-12-11T19:44:23.220963Z",
     "start_time": "2024-12-11T19:43:14.998646Z"
    }
   },
   "cell_type": "code",
   "source": [
    "from sklearn.ensemble import GradientBoostingClassifier\n",
    "model = GradientBoostingClassifier(n_estimators=500, learning_rate=0.8, random_state=15, max_depth=2)\n",
    "model.fit(X_train, y_train)\n",
    "y_pred = model.predict(X_test)\n",
    "print(classification_report(y_test, y_pred, digits=4))\n",
    "tn, fp, fn, tp = confusion_matrix(y_test, y_pred).ravel()\n",
    "print(fp, tn)"
   ],
   "id": "263d1f7c67ec89bd",
   "outputs": [
    {
     "name": "stdout",
     "output_type": "stream",
     "text": [
      "              precision    recall  f1-score   support\n",
      "\n",
      "           3     0.9921    0.9911    0.9916      1010\n",
      "           4     0.9908    0.9919    0.9913       982\n",
      "\n",
      "    accuracy                         0.9915      1992\n",
      "   macro avg     0.9915    0.9915    0.9915      1992\n",
      "weighted avg     0.9915    0.9915    0.9915      1992\n",
      "\n",
      "1001 9\n"
     ]
    }
   ],
   "execution_count": 16
  }
 ],
 "metadata": {
  "kernelspec": {
   "display_name": "Python 3",
   "language": "python",
   "name": "python3"
  },
  "language_info": {
   "codemirror_mode": {
    "name": "ipython",
    "version": 2
   },
   "file_extension": ".py",
   "mimetype": "text/x-python",
   "name": "python",
   "nbconvert_exporter": "python",
   "pygments_lexer": "ipython2",
   "version": "2.7.6"
  }
 },
 "nbformat": 4,
 "nbformat_minor": 5
}
