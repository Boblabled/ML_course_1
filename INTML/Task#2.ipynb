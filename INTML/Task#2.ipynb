{
 "cells": [
  {
   "cell_type": "raw",
   "source": [
    "# Задача 1\n",
    "Перед вами результаты наблюдений длительности нахождения человека в очереди в зависимости от количества людей в этой очереди.\n",
    "Обучите модель линейной регрессии для прогнозирования и введите указанные параметры.\n"
   ],
   "metadata": {
    "collapsed": false
   },
   "id": "cac8f6709a13c9f9"
  },
  {
   "cell_type": "code",
   "execution_count": 519,
   "id": "initial_id",
   "metadata": {
    "collapsed": true,
    "ExecuteTime": {
     "end_time": "2024-10-11T18:29:58.807093Z",
     "start_time": "2024-10-11T18:29:58.631713Z"
    }
   },
   "outputs": [],
   "source": [
    "import pandas as pd\n",
    "data = pd.read_csv('data/task2.1.csv', index_col=0)"
   ]
  },
  {
   "cell_type": "code",
   "outputs": [],
   "source": [
    "from sklearn.linear_model import LinearRegression\n",
    "model = LinearRegression().fit(data[[\"X\"]], data[\"Y\"])"
   ],
   "metadata": {
    "collapsed": false,
    "ExecuteTime": {
     "end_time": "2024-10-11T18:29:58.825173Z",
     "start_time": "2024-10-11T18:29:58.812051Z"
    }
   },
   "id": "94668c2d57d46b60",
   "execution_count": 520
  },
  {
   "cell_type": "markdown",
   "source": [
    "1. *Определите выборочное среднее `X`:*"
   ],
   "metadata": {
    "collapsed": false
   },
   "id": "de810e527f5051c0"
  },
  {
   "cell_type": "code",
   "outputs": [
    {
     "name": "stdout",
     "output_type": "stream",
     "text": [
      "12.0\n"
     ]
    }
   ],
   "source": [
    "print(data[\"X\"].mean())"
   ],
   "metadata": {
    "collapsed": false,
    "ExecuteTime": {
     "end_time": "2024-10-11T18:29:58.899560Z",
     "start_time": "2024-10-11T18:29:58.817157Z"
    }
   },
   "id": "7b3d2e1908c6c3a4",
   "execution_count": 521
  },
  {
   "cell_type": "markdown",
   "source": [
    "2. *Определите выборочное среднее `Y`:*"
   ],
   "metadata": {
    "collapsed": false
   },
   "id": "fa71b0424a6d2ebc"
  },
  {
   "cell_type": "code",
   "outputs": [
    {
     "name": "stdout",
     "output_type": "stream",
     "text": [
      "27.6\n"
     ]
    }
   ],
   "source": [
    "print(data[\"Y\"].mean())"
   ],
   "metadata": {
    "collapsed": false,
    "ExecuteTime": {
     "end_time": "2024-10-11T18:29:58.922087Z",
     "start_time": "2024-10-11T18:29:58.828745Z"
    }
   },
   "id": "d38f3a86eb4bb63e",
   "execution_count": 522
  },
  {
   "cell_type": "markdown",
   "source": [
    "3. *Найдите коэффициент `theta_1`:*"
   ],
   "metadata": {
    "collapsed": false
   },
   "id": "885a28a27f6e4efc"
  },
  {
   "cell_type": "code",
   "outputs": [
    {
     "name": "stdout",
     "output_type": "stream",
     "text": [
      "2.32\n"
     ]
    }
   ],
   "source": [
    "print(round(model.coef_[0], 2))"
   ],
   "metadata": {
    "collapsed": false,
    "ExecuteTime": {
     "end_time": "2024-10-11T18:29:59.035934Z",
     "start_time": "2024-10-11T18:29:58.906269Z"
    }
   },
   "id": "8c0fba0fae87ccf9",
   "execution_count": 523
  },
  {
   "cell_type": "markdown",
   "source": [
    "4. *Найдите коэффициент `theta_0`:*"
   ],
   "metadata": {
    "collapsed": false
   },
   "id": "dd64f8c262075870"
  },
  {
   "cell_type": "code",
   "outputs": [
    {
     "name": "stdout",
     "output_type": "stream",
     "text": [
      "-0.2\n"
     ]
    }
   ],
   "source": [
    "print(round(model.intercept_, 2))"
   ],
   "metadata": {
    "collapsed": false,
    "ExecuteTime": {
     "end_time": "2024-10-11T18:29:59.244325Z",
     "start_time": "2024-10-11T18:29:58.929710Z"
    }
   },
   "id": "2237e92447c8d121",
   "execution_count": 524
  },
  {
   "cell_type": "markdown",
   "source": [
    "5. *Оцените точность модели, вычислив `R^2` статистику:*"
   ],
   "metadata": {
    "collapsed": false
   },
   "id": "57ac8b5bcefbbf90"
  },
  {
   "cell_type": "code",
   "outputs": [
    {
     "data": {
      "text/plain": "0.86"
     },
     "execution_count": 525,
     "metadata": {},
     "output_type": "execute_result"
    }
   ],
   "source": [
    "round(model.score(data[[\"X\"]], data[\"Y\"]), 2)"
   ],
   "metadata": {
    "collapsed": false,
    "ExecuteTime": {
     "end_time": "2024-10-11T18:29:59.315539Z",
     "start_time": "2024-10-11T18:29:59.048533Z"
    }
   },
   "id": "4868796c8d445b8e",
   "execution_count": 525
  },
  {
   "cell_type": "markdown",
   "source": [
    "# Задача 2\n",
    "Представленный набор данных — это набор данных о семи различных типах рыб, продаваемых в некоторой рыбной лавке. Цель заключается в том, чтобы предсказать массу рыбы по каким-то косвенным признакам, известным о рыбе. Сами признаки, быть может, нужно синтезировать из тех, что известны.\n",
    "\n",
    "ВАЖНО: Задания с подробными пояснениями представлены в блокноте. Выполняя задания в блокноте, следует вводить полученные ответы в соответствующие поля ввода ниже. Рекомендуем вводить ответы поэтапно, для этого специально предусмотрено достаточное количество попыток.\n",
    "\n",
    "При помощи `train_test_split()` разбейте набор данных на обучающую и тестовую выборки с параметрами `test_size=0.2, random_state=33`. Используйте стратификацию по колонке `Species`. Стратификация позволит сохранить доли представленных объектов (по представителям типов рыб) в тренировочной и тестовой выборках."
   ],
   "metadata": {
    "collapsed": false
   },
   "id": "1560d9a39a8f6ea8"
  },
  {
   "cell_type": "code",
   "outputs": [],
   "source": [
    "from sklearn.model_selection import train_test_split\n",
    "data = pd.read_csv('data/fish_train.csv')\n",
    "species = data[\"Species\"].copy()\n",
    "data.drop([\"Species\"], axis=1, inplace=True)\n",
    "X_train, X_test, y_train, y_test = train_test_split(data.drop(\"Weight\", axis=1), data[\"Weight\"], test_size=0.2, random_state=33, stratify=species)"
   ],
   "metadata": {
    "collapsed": false,
    "ExecuteTime": {
     "end_time": "2024-10-11T18:29:59.516735Z",
     "start_time": "2024-10-11T18:29:59.319881Z"
    }
   },
   "id": "6fc2406af3db834a",
   "execution_count": 526
  },
  {
   "cell_type": "markdown",
   "source": [
    "*Вычислите выборочное среднее колонки Width полученной тренировочной выборки.*"
   ],
   "metadata": {
    "collapsed": false
   },
   "id": "df11cae87b2ac84d"
  },
  {
   "cell_type": "code",
   "outputs": [
    {
     "name": "stdout",
     "output_type": "stream",
     "text": [
      "4.511\n"
     ]
    }
   ],
   "source": [
    "print(round(X_train[\"Width\"].mean(), 3))"
   ],
   "metadata": {
    "collapsed": false,
    "ExecuteTime": {
     "end_time": "2024-10-11T18:29:59.621898Z",
     "start_time": "2024-10-11T18:29:59.452841Z"
    }
   },
   "id": "b7079fc12f566cd9",
   "execution_count": 527
  },
  {
   "cell_type": "markdown",
   "source": [
    "### 1. **Построение базовой модели**\n",
    "Избавьтесь от категориальных признаков и обучите модель линейной регрессии (`LinearRegression()`) на тренировочном наборе данных. Выполните предсказания для тестового набора данных. \n",
    "Оцените модель при помощи метрики `r2_score()`.\n",
    "*Введите r2_score() полученной модели.*"
   ],
   "metadata": {
    "collapsed": false
   },
   "id": "4c5d539d839f30d3"
  },
  {
   "cell_type": "code",
   "outputs": [
    {
     "name": "stdout",
     "output_type": "stream",
     "text": [
      "0.879\n"
     ]
    }
   ],
   "source": [
    "from sklearn.metrics import r2_score\n",
    "def trainAndScore(X_train, X_test, y_train, y_test):\n",
    "    model = LinearRegression().fit(X_train, y_train)\n",
    "    y_pred = model.predict(X_test)\n",
    "    print(round(r2_score(y_test, y_pred), 3))\n",
    "    \n",
    "trainAndScore(X_train, X_test, y_train, y_test)"
   ],
   "metadata": {
    "collapsed": false,
    "ExecuteTime": {
     "end_time": "2024-10-11T18:29:59.644689Z",
     "start_time": "2024-10-11T18:29:59.630980Z"
    }
   },
   "id": "c68be845ab146d45",
   "execution_count": 528
  },
  {
   "cell_type": "markdown",
   "source": [
    "### 2. **Добавление предварительной обработки признаков.**\n",
    "Использование PCA.\n",
    "\n",
    "*Перечислите через запятую и пробел тройку отбрасываемых наиболее коррелированных признаков.*"
   ],
   "metadata": {
    "collapsed": false
   },
   "id": "56e541e05c1494be"
  },
  {
   "cell_type": "code",
   "outputs": [
    {
     "data": {
      "text/plain": "Length1  Length2    0.999457\nLength2  Length3    0.993469\nLength1  Length3    0.991043\ndtype: float64"
     },
     "execution_count": 529,
     "metadata": {},
     "output_type": "execute_result"
    }
   ],
   "source": [
    "corr_matrix = data.corr()\n",
    "corr_pairs = corr_matrix.unstack()\n",
    "corr_pairs = corr_pairs[corr_pairs != 1]\n",
    "corr_pairs = corr_pairs.drop_duplicates()\n",
    "sorted_corr_pairs = corr_pairs.abs().sort_values(ascending=False)\n",
    "sorted_corr_pairs.head(3)"
   ],
   "metadata": {
    "collapsed": false,
    "ExecuteTime": {
     "end_time": "2024-10-11T18:29:59.686999Z",
     "start_time": "2024-10-11T18:29:59.653553Z"
    }
   },
   "id": "e031476708f13319",
   "execution_count": 529
  },
  {
   "cell_type": "markdown",
   "source": [
    "*Обучите модель PCA для трех наиболее коррелированных признаков на тренировочных данных. Примените полученное преобразование для тренировочных и тестовых данных. Введите долю объясненной дисперсии при использовании только первой главной компоненты.*"
   ],
   "metadata": {
    "collapsed": false
   },
   "id": "d0c364dc07c01d9f"
  },
  {
   "cell_type": "code",
   "outputs": [
    {
     "name": "stdout",
     "output_type": "stream",
     "text": [
      "0.996\n"
     ]
    }
   ],
   "source": [
    "from sklearn.decomposition import PCA\n",
    "pca = PCA(svd_solver='full', n_components=1)\n",
    "length_train = pca.fit_transform(X_train[[\"Length1\", \"Length2\", \"Length3\"]])\n",
    "length_test = pca.transform(X_test[[\"Length1\", \"Length2\", \"Length3\"]])\n",
    "print(round(pca.explained_variance_ratio_[0], 3))"
   ],
   "metadata": {
    "collapsed": false,
    "ExecuteTime": {
     "end_time": "2024-10-11T18:29:59.700449Z",
     "start_time": "2024-10-11T18:29:59.666392Z"
    }
   },
   "id": "bf2b35699c654304",
   "execution_count": 530
  },
  {
   "cell_type": "markdown",
   "source": [
    "*Замените тройку наиболее коррелированных признаков на полученный признак `Lengths`, значения которого совпадают со счетами первой главной компоненты. Обучите модель линейной регрессии. Введите `r2_score()` полученной модели.*"
   ],
   "metadata": {
    "collapsed": false
   },
   "id": "2dd3619329fe202c"
  },
  {
   "cell_type": "code",
   "outputs": [
    {
     "name": "stdout",
     "output_type": "stream",
     "text": [
      "0.875\n"
     ]
    }
   ],
   "source": [
    "X_train.drop([\"Length1\", \"Length2\", \"Length3\"], axis=1, inplace=True)\n",
    "X_train[\"Lengths\"] = length_train\n",
    "X_test.drop([\"Length1\", \"Length2\", \"Length3\"], axis=1, inplace=True)\n",
    "X_test[\"Lengths\"] = length_test\n",
    "trainAndScore(X_train, X_test, y_train, y_test)"
   ],
   "metadata": {
    "collapsed": false,
    "ExecuteTime": {
     "end_time": "2024-10-11T18:29:59.736821Z",
     "start_time": "2024-10-11T18:29:59.694636Z"
    }
   },
   "id": "fd264f567b6b2b99",
   "execution_count": 531
  },
  {
   "cell_type": "markdown",
   "source": [
    "**Модификация признаков.**\n",
    "Используя полученный на предыдущем этапе набор данных, возведите в куб значения признаков `Width`, `Height`, `Lengths`."
   ],
   "metadata": {
    "collapsed": false
   },
   "id": "c806bea0a13aea1d"
  },
  {
   "cell_type": "code",
   "outputs": [
    {
     "data": {
      "text/plain": "Text(0.5, 1.0, 'До преобразований')"
     },
     "execution_count": 532,
     "metadata": {},
     "output_type": "execute_result"
    },
    {
     "data": {
      "text/plain": "<Figure size 640x480 with 1 Axes>",
      "image/png": "[encoded data removed]"
     },
     "metadata": {},
     "output_type": "display_data"
    }
   ],
   "source": [
    "import matplotlib.pyplot as plt\n",
    "plt.scatter(X_train[\"Width\"], y_train)\n",
    "plt.title(\"До преобразований\")"
   ],
   "metadata": {
    "collapsed": false,
    "ExecuteTime": {
     "end_time": "2024-10-11T18:29:59.997438Z",
     "start_time": "2024-10-11T18:29:59.754440Z"
    }
   },
   "id": "10dfac58ee7883e1",
   "execution_count": 532
  },
  {
   "cell_type": "markdown",
   "source": [
    "*Введите выборочное среднее колонки `Width` тренировочного набора данных после возведения в куб.*"
   ],
   "metadata": {
    "collapsed": false
   },
   "id": "2fc1e019f87c71b0"
  },
  {
   "cell_type": "code",
   "outputs": [
    {
     "name": "stdout",
     "output_type": "stream",
     "text": [
      "130.74\n"
     ]
    }
   ],
   "source": [
    "X_train_new = X_train.copy()\n",
    "X_train_new[[\"Width\", \"Height\", \"Lengths\"]] = X_train_new[[\"Width\", \"Height\", \"Lengths\"]]**3\n",
    "X_test_new = X_test.copy()\n",
    "X_test_new[[\"Width\", \"Height\", \"Lengths\"]] = X_test_new[[\"Width\", \"Height\", \"Lengths\"]]**3\n",
    "print(round(X_train_new[\"Width\"].mean(), 3))"
   ],
   "metadata": {
    "collapsed": false,
    "ExecuteTime": {
     "end_time": "2024-10-11T18:29:59.998942Z",
     "start_time": "2024-10-11T18:29:59.975511Z"
    }
   },
   "id": "8e99aafc9e8138ea",
   "execution_count": 533
  },
  {
   "cell_type": "markdown",
   "source": [
    "*Введите номер изображения, соответствующего зависимости `Weight` от `Width` после преобразования.*"
   ],
   "metadata": {
    "collapsed": false
   },
   "id": "4c2c6d689e12412"
  },
  {
   "cell_type": "code",
   "outputs": [
    {
     "data": {
      "text/plain": "Text(0.5, 1.0, 'После преобразований')"
     },
     "execution_count": 534,
     "metadata": {},
     "output_type": "execute_result"
    },
    {
     "data": {
      "text/plain": "<Figure size 640x480 with 1 Axes>",
      "image/png": "[encoded data removed]"
     },
     "metadata": {},
     "output_type": "display_data"
    }
   ],
   "source": [
    "plt.scatter(X_train_new[\"Width\"], y_train)\n",
    "plt.title(\"После преобразований\")"
   ],
   "metadata": {
    "collapsed": false,
    "ExecuteTime": {
     "end_time": "2024-10-11T18:30:00.170167Z",
     "start_time": "2024-10-11T18:29:59.991564Z"
    }
   },
   "id": "ca5f01fdd472d780",
   "execution_count": 534
  },
  {
   "cell_type": "markdown",
   "source": [
    "*Обучите модель линейнной регрессии. Введите `r2_score()` полученной модели.*"
   ],
   "metadata": {
    "collapsed": false
   },
   "id": "67875158c7210efc"
  },
  {
   "cell_type": "code",
   "outputs": [
    {
     "name": "stdout",
     "output_type": "stream",
     "text": [
      "0.952\n"
     ]
    }
   ],
   "source": [
    "trainAndScore(X_train_new, X_test_new, y_train, y_test)"
   ],
   "metadata": {
    "collapsed": false,
    "ExecuteTime": {
     "end_time": "2024-10-11T18:30:00.181355Z",
     "start_time": "2024-10-11T18:30:00.173263Z"
    }
   },
   "id": "ede8efbe5d7a3845",
   "execution_count": 535
  },
  {
   "cell_type": "markdown",
   "source": [
    "**Добавление категориальных признаков.**\n",
    "\n",
    "Добавьте к набору данных, полученному на предыдущем этапе, ранее исключенные категориальные признаки, предварительно произведя `one-hot` кодирование при помощи `pd.get_dummies()`. Обучите модель регрессии. Введите `r2_score()` полученной модели."
   ],
   "metadata": {
    "collapsed": false
   },
   "id": "212387b277fef992"
  },
  {
   "cell_type": "code",
   "outputs": [
    {
     "name": "stdout",
     "output_type": "stream",
     "text": [
      "0.945\n"
     ]
    }
   ],
   "source": [
    "dummies_species = pd.get_dummies(species)\n",
    "X_train_new_ds = pd.concat([X_train_new, dummies_species], axis=1, join='inner')\n",
    "X_test_new_ds = pd.concat([X_test_new, dummies_species], axis=1, join='inner')\n",
    "trainAndScore(X_train_new_ds, X_test_new_ds, y_train, y_test)"
   ],
   "metadata": {
    "collapsed": false,
    "ExecuteTime": {
     "end_time": "2024-10-11T18:30:00.244163Z",
     "start_time": "2024-10-11T18:30:00.178011Z"
    }
   },
   "id": "a9755a9a18341570",
   "execution_count": 536
  },
  {
   "cell_type": "markdown",
   "source": [
    "Закодируйте категориальные признаки при помощи `pd.get_dummies(drop_first=True)`. Введите `r2_score()` модели после избавления от коррелированности."
   ],
   "metadata": {
    "collapsed": false
   },
   "id": "62a9adfafa3dd918"
  },
  {
   "cell_type": "code",
   "outputs": [
    {
     "name": "stdout",
     "output_type": "stream",
     "text": [
      "0.945\n"
     ]
    }
   ],
   "source": [
    "dummies_species = pd.get_dummies(species, drop_first=True)\n",
    "X_train_new_ds_new = pd.concat([X_train_new, dummies_species], axis=1, join='inner')\n",
    "X_test_new_ds_new = pd.concat([X_test_new, dummies_species], axis=1, join='inner')\n",
    "trainAndScore(X_train_new_ds_new, X_test_new_ds_new, y_train, y_test)"
   ],
   "metadata": {
    "collapsed": false,
    "ExecuteTime": {
     "end_time": "2024-10-11T18:30:00.245038Z",
     "start_time": "2024-10-11T18:30:00.195149Z"
    }
   },
   "id": "41268cfe47359a09",
   "execution_count": 537
  },
  {
   "cell_type": "markdown",
   "source": [
    "# Задача 3\n",
    "Используя весь датасет из предыдущего задания как обучающий, выполните предсказания для следующего набора данных. В качестве метрики используется `r2_score`. В зависмости от `r2_score` ваши баллы за выполнение задания вычисляются согласно следующему соотношению"
   ],
   "metadata": {
    "collapsed": false
   },
   "id": "b6cb6dd60bc6662d"
  },
  {
   "cell_type": "code",
   "outputs": [
    {
     "name": "stdout",
     "output_type": "stream",
     "text": [
      "[85.05452510521548, 174.17035186986368, 123.70361652809788, 99.3701379539084, 41.434892673245486, 216.21482291170673, 77.19181168581667, 455.43671920429915, 368.76269077109805, 130.46115282510914, 1820.9484560680278, 151.70026115387645, 623.1745876197817, 1030.9497585093577, 18.959827536929197, 626.740625461344, 97.41212958926678, 807.8205176974241, 1437.2361790586162, 81.31736011700832, 612.2210418175616, 204.62035647132404, 111.8110836213989, 167.55763246486595, 269.7451940791318, 624.3858916857059, 368.9510882067318, -6.558722395634959, 16.569745675921013, -1.1983513190771191, 957.7340787469841, 510.3898563554569, 561.2991461251554, 176.858252386314, -23.194428865935606, 52.20404615465975, 132.65062378609286, 922.4644656090054, 751.2961936319721, 133.76890522811095]\n"
     ]
    }
   ],
   "source": [
    "data = pd.read_csv('data/fish_train.csv')\n",
    "y_train = data[\"Weight\"]\n",
    "X_train = data.drop(\"Weight\", axis=1)\n",
    "\n",
    "X_test = pd.read_csv('data/fish_reserved.csv')\n",
    "\n",
    "pca = PCA(svd_solver='full', n_components=3)\n",
    "length_train = pca.fit_transform(X_train[[\"Length1\", \"Length2\", \"Length3\"]])\n",
    "length_test = pca.transform(X_test[[\"Length1\", \"Length2\", \"Length3\"]])\n",
    "X_train.drop([\"Length1\", \"Length2\", \"Length3\"], axis=1, inplace=True)\n",
    "X_train[\"Lengths\"] = length_train[:, 0]\n",
    "X_test.drop([\"Length1\", \"Length2\", \"Length3\"], axis=1, inplace=True)\n",
    "X_test[\"Lengths\"] = length_test[:, 0]\n",
    "\n",
    "# X_train[\"Width\"] = X_train[\"Width\"]**1\n",
    "# X_test[\"Width\"] = X_test[\"Width\"]**1\n",
    "# X_train[\"Height\"] = X_train[\"Height\"]**1\n",
    "# X_test[\"Height\"] = X_test[\"Height\"]**1\n",
    "X_train[\"Lengths\"] = X_train[\"Lengths\"]**2\n",
    "X_test[\"Lengths\"] = X_test[\"Lengths\"]**2\n",
    "\n",
    "dummies_species_train = pd.get_dummies(X_train[\"Species\"], drop_first=True)\n",
    "X_train.drop(\"Species\", axis=1, inplace=True)\n",
    "X_train = pd.concat([X_train, dummies_species_train], axis=1, join='inner')\n",
    "dummies_species_test = pd.get_dummies(X_test[\"Species\"], drop_first=True)\n",
    "X_test.drop(\"Species\", axis=1, inplace=True)\n",
    "X_test = pd.concat([X_test, dummies_species_test], axis=1, join='inner')\n",
    "\n",
    "model = LinearRegression().fit(X_train, y_train)\n",
    "\n",
    "# y_pred = model.predict(X_train)\n",
    "# print(r2_score(y_train, y_pred))\n",
    "\n",
    "y_pred = model.predict(X_test)\n",
    "print([float(i) for i in y_pred])"
   ],
   "metadata": {
    "collapsed": false,
    "ExecuteTime": {
     "end_time": "2024-10-11T18:30:00.282512Z",
     "start_time": "2024-10-11T18:30:00.208908Z"
    }
   },
   "id": "6354e64184ee017d",
   "execution_count": 538
  }
 ],
 "metadata": {
  "kernelspec": {
   "display_name": "Python 3",
   "language": "python",
   "name": "python3"
  },
  "language_info": {
   "codemirror_mode": {
    "name": "ipython",
    "version": 2
   },
   "file_extension": ".py",
   "mimetype": "text/x-python",
   "name": "python",
   "nbconvert_exporter": "python",
   "pygments_lexer": "ipython2",
   "version": "2.7.6"
  }
 },
 "nbformat": 4,
 "nbformat_minor": 5
}
