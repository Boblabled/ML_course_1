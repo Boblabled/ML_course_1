{
 "cells": [
  {
   "cell_type": "code",
   "outputs": [
    {
     "data": {
      "text/plain": "12.296"
     },
     "execution_count": 1,
     "metadata": {},
     "output_type": "execute_result"
    }
   ],
   "source": [
    "import pandas as pd\n",
    "data = pd.read_csv(\"data/data-1730185470577.csv\")\n",
    "data = data[((data[\"target\"] == 0) & (data[\"mip\"] >= 62.3984375) & (data[\"mip\"] <= 182.8359375)) | \n",
    "            ((data[\"target\"] == 1) & (data[\"mip\"] >= 8.2421875) & (data[\"mip\"] <= 116.8359375))]\n",
    "round(data[\"mc\"].mean(), 3)"
   ],
   "metadata": {
    "collapsed": false,
    "ExecuteTime": {
     "end_time": "2024-11-01T11:21:35.781052Z",
     "start_time": "2024-11-01T11:21:34.524729Z"
    }
   },
   "id": "a6f985b4ba0b0765",
   "execution_count": 1
  },
  {
   "cell_type": "code",
   "outputs": [
    {
     "data": {
      "text/plain": "26.101"
     },
     "execution_count": 2,
     "metadata": {},
     "output_type": "execute_result"
    }
   ],
   "source": [
    "from sklearn.model_selection import train_test_split\n",
    "data = data.sort_values(by=\"sip\")\n",
    "X_train, X_test, y_train, y_test = train_test_split(data.drop(\"target\", axis=1), data[\"target\"], stratify=data[\"target\"], random_state=9, train_size=0.8)\n",
    "round(X_train[\"stdc\"].mean(), 3)"
   ],
   "metadata": {
    "collapsed": false,
    "ExecuteTime": {
     "end_time": "2024-11-01T11:21:37.406281Z",
     "start_time": "2024-11-01T11:21:35.766174Z"
    }
   },
   "id": "1a720c72ace53fdc",
   "execution_count": 2
  },
  {
   "cell_type": "code",
   "outputs": [
    {
     "data": {
      "text/plain": "0.229"
     },
     "execution_count": 3,
     "metadata": {},
     "output_type": "execute_result"
    }
   ],
   "source": [
    "from sklearn.preprocessing import MinMaxScaler\n",
    "scaler = MinMaxScaler()\n",
    "X_train = pd.DataFrame(scaler.fit_transform(X_train), columns=X_train.columns)\n",
    "X_test = pd.DataFrame(scaler.transform(X_test), columns=X_test.columns)\n",
    "round(X_train[\"ekip\"].mean(), 3)"
   ],
   "metadata": {
    "collapsed": false,
    "ExecuteTime": {
     "end_time": "2024-11-01T11:21:37.563953Z",
     "start_time": "2024-11-01T11:21:37.394964Z"
    }
   },
   "id": "9499c014108098b7",
   "execution_count": 3
  },
  {
   "cell_type": "code",
   "outputs": [
    {
     "name": "stdout",
     "output_type": "stream",
     "text": [
      "258 59\n",
      "0.878\n",
      "0.878\n"
     ]
    }
   ],
   "source": [
    "from sklearn.linear_model import LogisticRegression\n",
    "from sklearn.metrics import confusion_matrix\n",
    "from sklearn.metrics import f1_score\n",
    "model = LogisticRegression(random_state = 9)\n",
    "model.fit(X_train, y_train)\n",
    "y_pred = model.predict(X_test)\n",
    "tn, fp, fn, tp = confusion_matrix(y_test, y_pred).ravel()\n",
    "# print(tp, fn)\n",
    "# r = tp / (tp + fn)\n",
    "# p = tp / (tp + fp)\n",
    "# f1 = (((p * r) / (p + r)) * 2)\n",
    "# print(round(f1, 3))\n",
    "print(round(f1_score(y_test, y_pred), 3))"
   ],
   "metadata": {
    "collapsed": false,
    "ExecuteTime": {
     "end_time": "2024-11-01T11:21:37.698042Z",
     "start_time": "2024-11-01T11:21:37.421819Z"
    }
   },
   "id": "2a82024f7e3639cc",
   "execution_count": 4
  },
  {
   "cell_type": "code",
   "outputs": [
    {
     "name": "stdout",
     "output_type": "stream",
     "text": [
      "270 19\n",
      "0.891\n"
     ]
    }
   ],
   "source": [
    "from sklearn.neighbors import KNeighborsClassifier\n",
    "model = KNeighborsClassifier(n_neighbors=3)\n",
    "model.fit(X_train, y_train)\n",
    "y_pred = model.predict(X_test)\n",
    "tn, fp, fn, tp = confusion_matrix(y_test, y_pred).ravel()\n",
    "print(tp, fp)\n",
    "print(round(f1_score(y_test, y_pred), 3))"
   ],
   "metadata": {
    "collapsed": false,
    "ExecuteTime": {
     "end_time": "2024-11-01T11:21:38.319511Z",
     "start_time": "2024-11-01T11:21:37.574539Z"
    }
   },
   "id": "a7e9c9a30268404b",
   "execution_count": 5
  }
 ],
 "metadata": {
  "kernelspec": {
   "display_name": "Python 3",
   "language": "python",
   "name": "python3"
  },
  "language_info": {
   "codemirror_mode": {
    "name": "ipython",
    "version": 2
   },
   "file_extension": ".py",
   "mimetype": "text/x-python",
   "name": "python",
   "nbconvert_exporter": "python",
   "pygments_lexer": "ipython2",
   "version": "2.7.6"
  }
 },
 "nbformat": 4,
 "nbformat_minor": 5
}
