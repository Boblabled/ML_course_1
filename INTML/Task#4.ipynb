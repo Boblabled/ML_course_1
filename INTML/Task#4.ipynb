{
 "cells": [
  {
   "cell_type": "markdown",
   "source": [
    "# Задача №1\n",
    "Таблица содержит данные о классификации писем на «спам»/«не спам» и общее количество слов, входящих в эти группы:"
   ],
   "metadata": {
    "collapsed": false
   },
   "id": "c1c49b584cdb9693"
  },
  {
   "cell_type": "code",
   "execution_count": 54,
   "id": "initial_id",
   "metadata": {
    "collapsed": true,
    "ExecuteTime": {
     "end_time": "2024-10-20T12:41:44.840527Z",
     "start_time": "2024-10-20T12:41:44.636050Z"
    }
   },
   "outputs": [
    {
     "data": {
      "text/plain": "       спам  не спам\nПисем    23       25\nСлов    161      193",
      "text/html": "<div>\n<style scoped>\n    .dataframe tbody tr th:only-of-type {\n        vertical-align: middle;\n    }\n\n    .dataframe tbody tr th {\n        vertical-align: top;\n    }\n\n    .dataframe thead th {\n        text-align: right;\n    }\n</style>\n<table border=\"1\" class=\"dataframe\">\n  <thead>\n    <tr style=\"text-align: right;\">\n      <th></th>\n      <th>спам</th>\n      <th>не спам</th>\n    </tr>\n  </thead>\n  <tbody>\n    <tr>\n      <th>Писем</th>\n      <td>23</td>\n      <td>25</td>\n    </tr>\n    <tr>\n      <th>Слов</th>\n      <td>161</td>\n      <td>193</td>\n    </tr>\n  </tbody>\n</table>\n</div>"
     },
     "execution_count": 54,
     "metadata": {},
     "output_type": "execute_result"
    }
   ],
   "source": [
    "import pandas as pd\n",
    "columns = ['спам', 'не спам']\n",
    "letters_data = pd.DataFrame([[23, 25], [161, 193]], index=['Писем', 'Слов'], columns=columns)\n",
    "letters_data"
   ]
  },
  {
   "cell_type": "markdown",
   "source": [
    "Во второй таблице представлены данные, по уникальным словам, и числу их вхождений в указанные группы:"
   ],
   "metadata": {
    "collapsed": false
   },
   "id": "7b19dd6d4e4447d6"
  },
  {
   "cell_type": "code",
   "outputs": [
    {
     "data": {
      "text/plain": "            спам  не спам\nInvestment    10       36\nRefund         8        0\nOnline         1       16\nMillion       13        9\nCoupon        31        2\nPrize         10        5\nAccess         9        6\nBill           0       16\nBonus         34       16\nFree          45       87",
      "text/html": "<div>\n<style scoped>\n    .dataframe tbody tr th:only-of-type {\n        vertical-align: middle;\n    }\n\n    .dataframe tbody tr th {\n        vertical-align: top;\n    }\n\n    .dataframe thead th {\n        text-align: right;\n    }\n</style>\n<table border=\"1\" class=\"dataframe\">\n  <thead>\n    <tr style=\"text-align: right;\">\n      <th></th>\n      <th>спам</th>\n      <th>не спам</th>\n    </tr>\n  </thead>\n  <tbody>\n    <tr>\n      <th>Investment</th>\n      <td>10</td>\n      <td>36</td>\n    </tr>\n    <tr>\n      <th>Refund</th>\n      <td>8</td>\n      <td>0</td>\n    </tr>\n    <tr>\n      <th>Online</th>\n      <td>1</td>\n      <td>16</td>\n    </tr>\n    <tr>\n      <th>Million</th>\n      <td>13</td>\n      <td>9</td>\n    </tr>\n    <tr>\n      <th>Coupon</th>\n      <td>31</td>\n      <td>2</td>\n    </tr>\n    <tr>\n      <th>Prize</th>\n      <td>10</td>\n      <td>5</td>\n    </tr>\n    <tr>\n      <th>Access</th>\n      <td>9</td>\n      <td>6</td>\n    </tr>\n    <tr>\n      <th>Bill</th>\n      <td>0</td>\n      <td>16</td>\n    </tr>\n    <tr>\n      <th>Bonus</th>\n      <td>34</td>\n      <td>16</td>\n    </tr>\n    <tr>\n      <th>Free</th>\n      <td>45</td>\n      <td>87</td>\n    </tr>\n  </tbody>\n</table>\n</div>"
     },
     "execution_count": 55,
     "metadata": {},
     "output_type": "execute_result"
    }
   ],
   "source": [
    "data = [[10, 36], [8, 0], [1, 16], [13, 9], [31, 2], [10, 5], [9, 6], [0, 16], [34, 16], [45, 87]]\n",
    "indexes = ['Investment', 'Refund', 'Online', 'Million', 'Coupon', 'Prize', 'Access', 'Bill', 'Bonus', 'Free']\n",
    "words_data = pd.DataFrame(data, index=indexes, columns=columns)\n",
    "words_data"
   ],
   "metadata": {
    "collapsed": false,
    "ExecuteTime": {
     "end_time": "2024-10-20T12:41:44.844224Z",
     "start_time": "2024-10-20T12:41:44.768665Z"
    }
   },
   "id": "b843df55172fda58",
   "execution_count": 55
  },
  {
   "cell_type": "markdown",
   "source": [
    "Ваша задача построить модель наивного байесовского классификатора и определить класс, \n",
    "к которому будет отнесено письмо, содержащее текст:\n",
    "```Free Offer Access Purchase Prize Bonus Online```\n",
    "1. *Определите вероятность того, что письмо является спамом, исходя из тренировочного набора данных.*"
   ],
   "metadata": {
    "collapsed": false
   },
   "id": "370f612b8406e7cf"
  },
  {
   "cell_type": "code",
   "outputs": [
    {
     "name": "stdout",
     "output_type": "stream",
     "text": [
      "0.479\n"
     ]
    }
   ],
   "source": [
    "P_spam = (letters_data['спам']/(letters_data['спам'] + letters_data['не спам']))['Писем']\n",
    "print(round(P_spam, 3))"
   ],
   "metadata": {
    "collapsed": false,
    "ExecuteTime": {
     "end_time": "2024-10-20T12:41:45.232850Z",
     "start_time": "2024-10-20T12:41:44.852217Z"
    }
   },
   "id": "5d3a0a88627b5650",
   "execution_count": 56
  },
  {
   "cell_type": "markdown",
   "source": [
    "2. *Вычислите F(\"спам\")*"
   ],
   "metadata": {
    "collapsed": false
   },
   "id": "2d52fd7ce5b9aa34"
  },
  {
   "cell_type": "code",
   "outputs": [
    {
     "name": "stdout",
     "output_type": "stream",
     "text": [
      "-24.031\n"
     ]
    }
   ],
   "source": [
    "import numpy as np\n",
    "words = 'Free Offer Access Purchase Prize Bonus Online'.split(\" \")\n",
    "r = sum([1 if word not in words_data.index else 0 for word in words])\n",
    "F_spam = sum([np.log((1+(words_data['спам'][word] if word in words_data.index else 0))/(len(indexes)+r+letters_data['спам']['Слов'])) for word in words]) + np.log(P_spam)\n",
    "print(round(F_spam, 3))"
   ],
   "metadata": {
    "collapsed": false,
    "ExecuteTime": {
     "end_time": "2024-10-20T12:41:45.322116Z",
     "start_time": "2024-10-20T12:41:44.947611Z"
    }
   },
   "id": "c71c32699c009a88",
   "execution_count": 57
  },
  {
   "cell_type": "markdown",
   "source": [
    "3. *Вычислите F(\"не спам\")*"
   ],
   "metadata": {
    "collapsed": false
   },
   "id": "7a696ec7cdfb375d"
  },
  {
   "cell_type": "code",
   "outputs": [
    {
     "name": "stdout",
     "output_type": "stream",
     "text": [
      "-24.032\n"
     ]
    }
   ],
   "source": [
    "P_not_spam = (letters_data['не спам']/(letters_data['спам'] + letters_data['не спам']))['Писем']\n",
    "F_not_spam = sum([np.log((1+(words_data['не спам'][word] if word in words_data.index else 0))/(len(indexes)+r+letters_data['не спам']['Слов'])) for word in words]) + np.log(P_not_spam)\n",
    "print(round(F_not_spam, 3))"
   ],
   "metadata": {
    "collapsed": false,
    "ExecuteTime": {
     "end_time": "2024-10-20T12:41:45.503128Z",
     "start_time": "2024-10-20T12:41:45.327806Z"
    }
   },
   "id": "367eb9236f59bb00",
   "execution_count": 58
  },
  {
   "cell_type": "markdown",
   "source": [
    "4. *Вычислите вероятность P (Класс=\"спам\"|Письмо), что письмо `Free Offer Access Purchase Prize Bonus Online` является спамом*"
   ],
   "metadata": {
    "collapsed": false
   },
   "id": "cf1a1b3799f7db2d"
  },
  {
   "cell_type": "code",
   "outputs": [
    {
     "name": "stdout",
     "output_type": "stream",
     "text": [
      "0.5\n"
     ]
    }
   ],
   "source": [
    "P = 1/(1+np.exp(F_not_spam-F_spam))\n",
    "print(round(P, 3))"
   ],
   "metadata": {
    "collapsed": false,
    "ExecuteTime": {
     "end_time": "2024-10-20T12:41:45.655382Z",
     "start_time": "2024-10-20T12:41:45.508086Z"
    }
   },
   "id": "f4e4b7a0d4dc7c8e",
   "execution_count": 59
  }
 ],
 "metadata": {
  "kernelspec": {
   "display_name": "Python 3",
   "language": "python",
   "name": "python3"
  },
  "language_info": {
   "codemirror_mode": {
    "name": "ipython",
    "version": 2
   },
   "file_extension": ".py",
   "mimetype": "text/x-python",
   "name": "python",
   "nbconvert_exporter": "python",
   "pygments_lexer": "ipython2",
   "version": "2.7.6"
  }
 },
 "nbformat": 4,
 "nbformat_minor": 5
}
