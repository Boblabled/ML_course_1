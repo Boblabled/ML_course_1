{
 "cells": [
  {
   "metadata": {},
   "cell_type": "markdown",
   "source": [
    "# Задание\n",
    "9 points possible (ungraded)\n",
    "Подготовьте данные для обучения алгоритмов:\n",
    "\n",
    "1. Сформируйте выборку для дальнейшей работы следующим образом: выберите лишь те объекты, у которых MIP  [10, 100]\n",
    "\n",
    "*Укажите число строк в полученной выборке:*"
   ],
   "id": "efac169231ded4c7"
  },
  {
   "cell_type": "code",
   "id": "initial_id",
   "metadata": {
    "collapsed": true,
    "ExecuteTime": {
     "end_time": "2024-11-01T09:53:41.452434Z",
     "start_time": "2024-11-01T09:53:41.126393Z"
    }
   },
   "source": [
    "import pandas as pd\n",
    "from sklearn.linear_model import LogisticRegression\n",
    "from sklearn.neighbors import KNeighborsClassifier\n",
    "from sklearn.metrics import confusion_matrix\n",
    "from sklearn.metrics import f1_score\n",
    "from sklearn.model_selection import train_test_split\n",
    "from sklearn.preprocessing import MinMaxScaler\n",
    "\n",
    "data = pd.read_csv('data/data-1730185470577.csv')\n",
    "data = data[(data[\"mip\"] >= 10) & (data[\"mip\"] <= 100)]\n",
    "data.shape[0]"
   ],
   "outputs": [
    {
     "data": {
      "text/plain": "4218"
     },
     "execution_count": 2,
     "metadata": {},
     "output_type": "execute_result"
    }
   ],
   "execution_count": 2
  },
  {
   "metadata": {},
   "cell_type": "markdown",
   "source": [
    "*Определите выборочное среднее для столбца `MIP`*"
   ],
   "id": "3ebdfc5a13b02c6e"
  },
  {
   "metadata": {
    "ExecuteTime": {
     "end_time": "2024-11-01T09:53:41.478518Z",
     "start_time": "2024-11-01T09:53:41.389340Z"
    }
   },
   "cell_type": "code",
   "source": [
    "print(round(data['mip'].mean(), 3))"
   ],
   "id": "7ce90de1ebae4e10",
   "outputs": [
    {
     "name": "stdout",
     "output_type": "stream",
     "text": [
      "77.053\n"
     ]
    }
   ],
   "execution_count": 3
  },
  {
   "metadata": {},
   "cell_type": "markdown",
   "source": [
    "*Определите минимальное значение из столбца `MIP`:*"
   ],
   "id": "a0a627a53dad124b"
  },
  {
   "metadata": {
    "ExecuteTime": {
     "end_time": "2024-11-01T09:53:41.730117Z",
     "start_time": "2024-11-01T09:53:41.484821Z"
    }
   },
   "cell_type": "code",
   "source": [
    "print(round(data['mip'].min(), 3))"
   ],
   "id": "6ab774a193533446",
   "outputs": [
    {
     "name": "stdout",
     "output_type": "stream",
     "text": [
      "10.008\n"
     ]
    }
   ],
   "execution_count": 4
  },
  {
   "metadata": {},
   "cell_type": "markdown",
   "source": [
    "2. Отсортируйте данные в столбце `SIP` по возрастанию, а затем разделите набор данных на обучающую и тестовую выборки с помощью `train_test_split()` в соотношении `80:20` c параметром `random_state = 33`. Используйте стратификацию по колонке отклика.\n",
    "\n",
    "*Определите максмальное значение столбца `STDC` из тренировочной выборки:*"
   ],
   "id": "9495cb5e05d960db"
  },
  {
   "metadata": {
    "ExecuteTime": {
     "end_time": "2024-11-01T09:53:41.928250Z",
     "start_time": "2024-11-01T09:53:41.532855Z"
    }
   },
   "cell_type": "code",
   "source": [
    "data = data.sort_values(by=['sip'], ignore_index=True)\n",
    "train_X, test_X, train_y, test_y = train_test_split(data.drop(\"target\", axis=1), data[\"target\"], train_size=0.8, random_state=33, stratify=data[\"target\"])\n",
    "print(round(train_X[\"stdc\"].max(), 3))"
   ],
   "id": "4c423d5aee86c833",
   "outputs": [
    {
     "name": "stdout",
     "output_type": "stream",
     "text": [
      "109.655\n"
     ]
    }
   ],
   "execution_count": 5
  },
  {
   "metadata": {},
   "cell_type": "markdown",
   "source": [
    "3. Выполните преобразование линейной нормировки для тренировочного набора данных и примените его для тестовых данных.\n",
    "\n",
    "*Определите выборочное среднее для столбца `stdip` из тренировочной выборки (после нормировки):*"
   ],
   "id": "d7c03778be7ccc09"
  },
  {
   "metadata": {
    "ExecuteTime": {
     "end_time": "2024-11-01T09:53:42.226446Z",
     "start_time": "2024-11-01T09:53:41.938402Z"
    }
   },
   "cell_type": "code",
   "source": [
    "scaler = MinMaxScaler()\n",
    "train_X = pd.DataFrame(scaler.fit_transform(train_X), columns=train_X.columns, index=train_X.index)\n",
    "test_X = pd.DataFrame(scaler.transform(test_X), columns=test_X.columns, index=test_X.index)\n",
    "print(round(train_X[\"stdip\"].mean(), 3))"
   ],
   "id": "8d0ae898664e77a0",
   "outputs": [
    {
     "name": "stdout",
     "output_type": "stream",
     "text": [
      "0.256\n"
     ]
    }
   ],
   "execution_count": 6
  },
  {
   "metadata": {},
   "cell_type": "markdown",
   "source": [
    "## Используйте полученные данные и обучите алгоритмы\n",
    "\n",
    "Обучите модель `LogisticRegression()` на тренировочных данных используя все параметы по умолчанию. Оцените модель на тестовых данных.\n",
    "\n",
    "*Составьте матрицу ошибок. Введите значение для `True Positive (TP)`:*"
   ],
   "id": "ae7abcbae2e5b671"
  },
  {
   "metadata": {
    "ExecuteTime": {
     "end_time": "2024-11-01T09:53:42.403763Z",
     "start_time": "2024-11-01T09:53:42.050368Z"
    }
   },
   "cell_type": "code",
   "source": [
    "model = LogisticRegression()\n",
    "model.fit(train_X, train_y)\n",
    "y_pred = model.predict(test_X)\n",
    "tn, fp, fn, tp = confusion_matrix(test_y, y_pred).ravel()\n",
    "print(tp)"
   ],
   "id": "656482d505e39c53",
   "outputs": [
    {
     "name": "stdout",
     "output_type": "stream",
     "text": [
      "246\n"
     ]
    }
   ],
   "execution_count": 7
  },
  {
   "metadata": {},
   "cell_type": "markdown",
   "source": [
    "*Вычислите `f1 score` для тестового набора данных.*"
   ],
   "id": "76ec0c3555b3cfdc"
  },
  {
   "metadata": {
    "ExecuteTime": {
     "end_time": "2024-11-01T09:53:42.716356Z",
     "start_time": "2024-11-01T09:53:42.408265Z"
    }
   },
   "cell_type": "code",
   "source": [
    "print(round(f1_score(test_y, y_pred), 3))"
   ],
   "id": "f3ef53aab2e62269",
   "outputs": [
    {
     "name": "stdout",
     "output_type": "stream",
     "text": [
      "0.893\n"
     ]
    }
   ],
   "execution_count": 8
  },
  {
   "metadata": {},
   "cell_type": "markdown",
   "source": [
    "Обучите модель `KNeighborsClassifier(n_neighbors=3)` на тренировочных данных. Оцените на тестовых данных.\n",
    "\n",
    "Составьте матрицу ошибок. Введите значение для `True Positive (TP)`:"
   ],
   "id": "4df921f12b2df4c9"
  },
  {
   "metadata": {
    "ExecuteTime": {
     "end_time": "2024-11-01T09:53:42.798024Z",
     "start_time": "2024-11-01T09:53:42.647068Z"
    }
   },
   "cell_type": "code",
   "source": [
    "model = KNeighborsClassifier(n_neighbors=3)\n",
    "model.fit(train_X, train_y)\n",
    "y_pred = model.predict(test_X)\n",
    "tn, fp, fn, tp = confusion_matrix(test_y, y_pred).ravel()\n",
    "print(tp)"
   ],
   "id": "931d82b126f9c4f4",
   "outputs": [
    {
     "name": "stdout",
     "output_type": "stream",
     "text": [
      "258\n"
     ]
    }
   ],
   "execution_count": 9
  },
  {
   "metadata": {},
   "cell_type": "markdown",
   "source": [
    "*Вычислите `f1 score` для тестового набора данных.*"
   ],
   "id": "7793c193ed6c805c"
  },
  {
   "metadata": {
    "ExecuteTime": {
     "end_time": "2024-11-01T09:53:42.853148Z",
     "start_time": "2024-11-01T09:53:42.769015Z"
    }
   },
   "cell_type": "code",
   "source": [
    "print(round(f1_score(test_y, y_pred), 3))"
   ],
   "id": "92e8abd6790f0297",
   "outputs": [
    {
     "name": "stdout",
     "output_type": "stream",
     "text": [
      "0.918\n"
     ]
    }
   ],
   "execution_count": 10
  }
 ],
 "metadata": {
  "kernelspec": {
   "display_name": "Python 3",
   "language": "python",
   "name": "python3"
  },
  "language_info": {
   "codemirror_mode": {
    "name": "ipython",
    "version": 2
   },
   "file_extension": ".py",
   "mimetype": "text/x-python",
   "name": "python",
   "nbconvert_exporter": "python",
   "pygments_lexer": "ipython2",
   "version": "2.7.6"
  }
 },
 "nbformat": 4,
 "nbformat_minor": 5
}
