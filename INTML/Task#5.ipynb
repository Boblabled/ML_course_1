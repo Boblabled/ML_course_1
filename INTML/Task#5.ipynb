{
 "cells": [
  {
   "cell_type": "markdown",
   "source": [
    "# Задача 1\n",
    "Представленный набор данных содержит информацию о пассажирах корабля «Титаник», затонувшего в ночь на 15-е апреля 1912 года. Некоторое количество пассажиров спаслось, чему способствовало множество различных факторов, включая их пол, возраст, на какой палубе находилась их кабина, социальный статус, и т.д. Набор данных состоит из различных признаков, описывающих информацию о пассажирах. Каждая строка таблицы — отдельный пассажир, вся информация о нем содержится в его строке.\n",
    "\n",
    "ВАЖНО: Задания с подробными пояснениями представлены в блокноте. Выполняя задания в блокноте, следует вводить полученные ответы в соответствующие поля ввода ниже. Рекомендуем вводить ответы поэтапно, для этого специально предусмотрено достаточное количество попыток.\n",
    "\n",
    "**1. Подготовка и первичный анализ данных**"
   ],
   "metadata": {
    "collapsed": false
   },
   "id": "a8675880f31e569a"
  },
  {
   "cell_type": "code",
   "execution_count": 416,
   "id": "initial_id",
   "metadata": {
    "collapsed": true,
    "ExecuteTime": {
     "end_time": "2024-10-25T11:00:37.130253Z",
     "start_time": "2024-10-25T11:00:37.052333Z"
    }
   },
   "outputs": [
    {
     "data": {
      "text/plain": "     pclass  survived                                             name  \\\n0         3         1                               Smyth, Miss. Julia   \n1         3         1                         Glynn, Miss. Mary Agatha   \n2         3         1  Whabee, Mrs. George Joseph (Shawneene Abi-Saab)   \n3         3         0                                  Vovk, Mr. Janko   \n4         3         0                        de Pelsmaeker, Mr. Alfons   \n..      ...       ...                                              ...   \n976       3         1                      Howard, Miss. May Elizabeth   \n977       3         1                       Dorking, Mr. Edward Arthur   \n978       2         0                     Gillespie, Mr. William Henry   \n979       3         0                           Barton, Mr. David John   \n980       1         0                     Allison, Miss. Helen Loraine   \n\n        sex   age  sibsp  parch       ticket      fare    cabin embarked  \\\n0    female   NaN      0      0       335432    7.7333      NaN        Q   \n1    female   NaN      0      0       335677    7.7500      NaN        Q   \n2    female  38.0      0      0         2688    7.2292      NaN        C   \n3      male  22.0      0      0       349252    7.8958      NaN        S   \n4      male  16.0      0      0       345778    9.5000      NaN        S   \n..      ...   ...    ...    ...          ...       ...      ...      ...   \n976  female   NaN      0      0  A. 2. 39186    8.0500      NaN        S   \n977    male  19.0      0      0   A/5. 10482    8.0500      NaN        S   \n978    male  34.0      0      0        12233   13.0000      NaN        S   \n979    male  22.0      0      0       324669    8.0500      NaN        S   \n980  female   2.0      1      2       113781  151.5500  C22 C26        S   \n\n                            home.dest  \n0                                 NaN  \n1    Co Clare, Ireland Washington, DC  \n2                                 NaN  \n3                                 NaN  \n4                                 NaN  \n..                                ...  \n976                               NaN  \n977               England Oglesby, IL  \n978                     Vancouver, BC  \n979              England New York, NY  \n980   Montreal, PQ / Chesterville, ON  \n\n[981 rows x 12 columns]",
      "text/html": "<div>\n<style scoped>\n    .dataframe tbody tr th:only-of-type {\n        vertical-align: middle;\n    }\n\n    .dataframe tbody tr th {\n        vertical-align: top;\n    }\n\n    .dataframe thead th {\n        text-align: right;\n    }\n</style>\n<table border=\"1\" class=\"dataframe\">\n  <thead>\n    <tr style=\"text-align: right;\">\n      <th></th>\n      <th>pclass</th>\n      <th>survived</th>\n      <th>name</th>\n      <th>sex</th>\n      <th>age</th>\n      <th>sibsp</th>\n      <th>parch</th>\n      <th>ticket</th>\n      <th>fare</th>\n      <th>cabin</th>\n      <th>embarked</th>\n      <th>home.dest</th>\n    </tr>\n  </thead>\n  <tbody>\n    <tr>\n      <th>0</th>\n      <td>3</td>\n      <td>1</td>\n      <td>Smyth, Miss. Julia</td>\n      <td>female</td>\n      <td>NaN</td>\n      <td>0</td>\n      <td>0</td>\n      <td>335432</td>\n      <td>7.7333</td>\n      <td>NaN</td>\n      <td>Q</td>\n      <td>NaN</td>\n    </tr>\n    <tr>\n      <th>1</th>\n      <td>3</td>\n      <td>1</td>\n      <td>Glynn, Miss. Mary Agatha</td>\n      <td>female</td>\n      <td>NaN</td>\n      <td>0</td>\n      <td>0</td>\n      <td>335677</td>\n      <td>7.7500</td>\n      <td>NaN</td>\n      <td>Q</td>\n      <td>Co Clare, Ireland Washington, DC</td>\n    </tr>\n    <tr>\n      <th>2</th>\n      <td>3</td>\n      <td>1</td>\n      <td>Whabee, Mrs. George Joseph (Shawneene Abi-Saab)</td>\n      <td>female</td>\n      <td>38.0</td>\n      <td>0</td>\n      <td>0</td>\n      <td>2688</td>\n      <td>7.2292</td>\n      <td>NaN</td>\n      <td>C</td>\n      <td>NaN</td>\n    </tr>\n    <tr>\n      <th>3</th>\n      <td>3</td>\n      <td>0</td>\n      <td>Vovk, Mr. Janko</td>\n      <td>male</td>\n      <td>22.0</td>\n      <td>0</td>\n      <td>0</td>\n      <td>349252</td>\n      <td>7.8958</td>\n      <td>NaN</td>\n      <td>S</td>\n      <td>NaN</td>\n    </tr>\n    <tr>\n      <th>4</th>\n      <td>3</td>\n      <td>0</td>\n      <td>de Pelsmaeker, Mr. Alfons</td>\n      <td>male</td>\n      <td>16.0</td>\n      <td>0</td>\n      <td>0</td>\n      <td>345778</td>\n      <td>9.5000</td>\n      <td>NaN</td>\n      <td>S</td>\n      <td>NaN</td>\n    </tr>\n    <tr>\n      <th>...</th>\n      <td>...</td>\n      <td>...</td>\n      <td>...</td>\n      <td>...</td>\n      <td>...</td>\n      <td>...</td>\n      <td>...</td>\n      <td>...</td>\n      <td>...</td>\n      <td>...</td>\n      <td>...</td>\n      <td>...</td>\n    </tr>\n    <tr>\n      <th>976</th>\n      <td>3</td>\n      <td>1</td>\n      <td>Howard, Miss. May Elizabeth</td>\n      <td>female</td>\n      <td>NaN</td>\n      <td>0</td>\n      <td>0</td>\n      <td>A. 2. 39186</td>\n      <td>8.0500</td>\n      <td>NaN</td>\n      <td>S</td>\n      <td>NaN</td>\n    </tr>\n    <tr>\n      <th>977</th>\n      <td>3</td>\n      <td>1</td>\n      <td>Dorking, Mr. Edward Arthur</td>\n      <td>male</td>\n      <td>19.0</td>\n      <td>0</td>\n      <td>0</td>\n      <td>A/5. 10482</td>\n      <td>8.0500</td>\n      <td>NaN</td>\n      <td>S</td>\n      <td>England Oglesby, IL</td>\n    </tr>\n    <tr>\n      <th>978</th>\n      <td>2</td>\n      <td>0</td>\n      <td>Gillespie, Mr. William Henry</td>\n      <td>male</td>\n      <td>34.0</td>\n      <td>0</td>\n      <td>0</td>\n      <td>12233</td>\n      <td>13.0000</td>\n      <td>NaN</td>\n      <td>S</td>\n      <td>Vancouver, BC</td>\n    </tr>\n    <tr>\n      <th>979</th>\n      <td>3</td>\n      <td>0</td>\n      <td>Barton, Mr. David John</td>\n      <td>male</td>\n      <td>22.0</td>\n      <td>0</td>\n      <td>0</td>\n      <td>324669</td>\n      <td>8.0500</td>\n      <td>NaN</td>\n      <td>S</td>\n      <td>England New York, NY</td>\n    </tr>\n    <tr>\n      <th>980</th>\n      <td>1</td>\n      <td>0</td>\n      <td>Allison, Miss. Helen Loraine</td>\n      <td>female</td>\n      <td>2.0</td>\n      <td>1</td>\n      <td>2</td>\n      <td>113781</td>\n      <td>151.5500</td>\n      <td>C22 C26</td>\n      <td>S</td>\n      <td>Montreal, PQ / Chesterville, ON</td>\n    </tr>\n  </tbody>\n</table>\n<p>981 rows × 12 columns</p>\n</div>"
     },
     "execution_count": 416,
     "metadata": {},
     "output_type": "execute_result"
    }
   ],
   "source": [
    "import pandas as pd\n",
    "data = pd.read_csv(\"data/titanic_train.csv\")\n",
    "data\n"
   ]
  },
  {
   "cell_type": "markdown",
   "source": [
    "*Установите количество пропущенных значений колонки `age`.*"
   ],
   "metadata": {
    "collapsed": false
   },
   "id": "e90bef2868107763"
  },
  {
   "cell_type": "code",
   "outputs": [
    {
     "name": "stdout",
     "output_type": "stream",
     "text": [
      "199\n"
     ]
    }
   ],
   "source": [
    "print(data['age'].isna().sum())"
   ],
   "metadata": {
    "collapsed": false,
    "ExecuteTime": {
     "end_time": "2024-10-25T11:00:37.183002Z",
     "start_time": "2024-10-25T11:00:37.135038Z"
    }
   },
   "id": "e1eb834bcb9324a6",
   "execution_count": 417
  },
  {
   "cell_type": "markdown",
   "source": [
    "Постройте гистограмму распределения объектов по классам.\n",
    "\n",
    "*Вычислите долю выживших.*"
   ],
   "metadata": {
    "collapsed": false
   },
   "id": "7b72e1f35b45682e"
  },
  {
   "cell_type": "code",
   "outputs": [
    {
     "name": "stdout",
     "output_type": "stream",
     "text": [
      "0.382\n"
     ]
    }
   ],
   "source": [
    "print(round(data['survived'].mean(), 3))"
   ],
   "metadata": {
    "collapsed": false,
    "ExecuteTime": {
     "end_time": "2024-10-25T11:00:37.183833Z",
     "start_time": "2024-10-25T11:00:37.140759Z"
    }
   },
   "id": "1b9b7190f36ebe5d",
   "execution_count": 418
  },
  {
   "cell_type": "markdown",
   "source": [
    "Определите долю пропущенных значений в рамках каждого признака и избавьтесь от тех признаков, где доля пропусков больше трети. Также удалите колонку `ticket`, вряд ли эта информация будет полезной.\n",
    "\n",
    "Из описания набора данных видно, что колонки `sibsp` и `parch` по сути отвечают за размер семьи. Замените эти две колонки на колонку `fam_size`, значения которой будут вычисляться как сумма соответствующих значений в колонках `sibsp` и `parch`."
   ],
   "metadata": {
    "collapsed": false
   },
   "id": "651dc8e53c584b41"
  },
  {
   "cell_type": "code",
   "outputs": [
    {
     "data": {
      "text/plain": "     pclass  survived                                             name  \\\n0         3         1                               Smyth, Miss. Julia   \n1         3         1                         Glynn, Miss. Mary Agatha   \n2         3         1  Whabee, Mrs. George Joseph (Shawneene Abi-Saab)   \n3         3         0                                  Vovk, Mr. Janko   \n4         3         0                        de Pelsmaeker, Mr. Alfons   \n..      ...       ...                                              ...   \n976       3         1                      Howard, Miss. May Elizabeth   \n977       3         1                       Dorking, Mr. Edward Arthur   \n978       2         0                     Gillespie, Mr. William Henry   \n979       3         0                           Barton, Mr. David John   \n980       1         0                     Allison, Miss. Helen Loraine   \n\n        sex   age      fare embarked  fam_size  \n0    female   NaN    7.7333        Q         0  \n1    female   NaN    7.7500        Q         0  \n2    female  38.0    7.2292        C         0  \n3      male  22.0    7.8958        S         0  \n4      male  16.0    9.5000        S         0  \n..      ...   ...       ...      ...       ...  \n976  female   NaN    8.0500        S         0  \n977    male  19.0    8.0500        S         0  \n978    male  34.0   13.0000        S         0  \n979    male  22.0    8.0500        S         0  \n980  female   2.0  151.5500        S         3  \n\n[981 rows x 8 columns]",
      "text/html": "<div>\n<style scoped>\n    .dataframe tbody tr th:only-of-type {\n        vertical-align: middle;\n    }\n\n    .dataframe tbody tr th {\n        vertical-align: top;\n    }\n\n    .dataframe thead th {\n        text-align: right;\n    }\n</style>\n<table border=\"1\" class=\"dataframe\">\n  <thead>\n    <tr style=\"text-align: right;\">\n      <th></th>\n      <th>pclass</th>\n      <th>survived</th>\n      <th>name</th>\n      <th>sex</th>\n      <th>age</th>\n      <th>fare</th>\n      <th>embarked</th>\n      <th>fam_size</th>\n    </tr>\n  </thead>\n  <tbody>\n    <tr>\n      <th>0</th>\n      <td>3</td>\n      <td>1</td>\n      <td>Smyth, Miss. Julia</td>\n      <td>female</td>\n      <td>NaN</td>\n      <td>7.7333</td>\n      <td>Q</td>\n      <td>0</td>\n    </tr>\n    <tr>\n      <th>1</th>\n      <td>3</td>\n      <td>1</td>\n      <td>Glynn, Miss. Mary Agatha</td>\n      <td>female</td>\n      <td>NaN</td>\n      <td>7.7500</td>\n      <td>Q</td>\n      <td>0</td>\n    </tr>\n    <tr>\n      <th>2</th>\n      <td>3</td>\n      <td>1</td>\n      <td>Whabee, Mrs. George Joseph (Shawneene Abi-Saab)</td>\n      <td>female</td>\n      <td>38.0</td>\n      <td>7.2292</td>\n      <td>C</td>\n      <td>0</td>\n    </tr>\n    <tr>\n      <th>3</th>\n      <td>3</td>\n      <td>0</td>\n      <td>Vovk, Mr. Janko</td>\n      <td>male</td>\n      <td>22.0</td>\n      <td>7.8958</td>\n      <td>S</td>\n      <td>0</td>\n    </tr>\n    <tr>\n      <th>4</th>\n      <td>3</td>\n      <td>0</td>\n      <td>de Pelsmaeker, Mr. Alfons</td>\n      <td>male</td>\n      <td>16.0</td>\n      <td>9.5000</td>\n      <td>S</td>\n      <td>0</td>\n    </tr>\n    <tr>\n      <th>...</th>\n      <td>...</td>\n      <td>...</td>\n      <td>...</td>\n      <td>...</td>\n      <td>...</td>\n      <td>...</td>\n      <td>...</td>\n      <td>...</td>\n    </tr>\n    <tr>\n      <th>976</th>\n      <td>3</td>\n      <td>1</td>\n      <td>Howard, Miss. May Elizabeth</td>\n      <td>female</td>\n      <td>NaN</td>\n      <td>8.0500</td>\n      <td>S</td>\n      <td>0</td>\n    </tr>\n    <tr>\n      <th>977</th>\n      <td>3</td>\n      <td>1</td>\n      <td>Dorking, Mr. Edward Arthur</td>\n      <td>male</td>\n      <td>19.0</td>\n      <td>8.0500</td>\n      <td>S</td>\n      <td>0</td>\n    </tr>\n    <tr>\n      <th>978</th>\n      <td>2</td>\n      <td>0</td>\n      <td>Gillespie, Mr. William Henry</td>\n      <td>male</td>\n      <td>34.0</td>\n      <td>13.0000</td>\n      <td>S</td>\n      <td>0</td>\n    </tr>\n    <tr>\n      <th>979</th>\n      <td>3</td>\n      <td>0</td>\n      <td>Barton, Mr. David John</td>\n      <td>male</td>\n      <td>22.0</td>\n      <td>8.0500</td>\n      <td>S</td>\n      <td>0</td>\n    </tr>\n    <tr>\n      <th>980</th>\n      <td>1</td>\n      <td>0</td>\n      <td>Allison, Miss. Helen Loraine</td>\n      <td>female</td>\n      <td>2.0</td>\n      <td>151.5500</td>\n      <td>S</td>\n      <td>3</td>\n    </tr>\n  </tbody>\n</table>\n<p>981 rows × 8 columns</p>\n</div>"
     },
     "execution_count": 419,
     "metadata": {},
     "output_type": "execute_result"
    }
   ],
   "source": [
    "data['fam_size'] = data['sibsp'] + data['parch']\n",
    "data.drop(['sibsp', 'parch', 'ticket'], axis=1, inplace=True)\n",
    "for column in data.columns:\n",
    "    if data[column].isna().sum()/len(data) > 1/3:\n",
    "        data.drop(column, axis=1, inplace=True)\n",
    "data"
   ],
   "metadata": {
    "collapsed": false,
    "ExecuteTime": {
     "end_time": "2024-10-25T11:00:37.226514Z",
     "start_time": "2024-10-25T11:00:37.189062Z"
    }
   },
   "id": "6806ff0451816346",
   "execution_count": 419
  },
  {
   "cell_type": "markdown",
   "source": [
    "*Вычислите выборочное среднее колонки `fam_size`.*"
   ],
   "metadata": {
    "collapsed": false
   },
   "id": "b2a848f1e2ec4dc5"
  },
  {
   "cell_type": "code",
   "outputs": [
    {
     "name": "stdout",
     "output_type": "stream",
     "text": [
      "0.866\n"
     ]
    }
   ],
   "source": [
    "print(round(data['fam_size'].mean(), 3))"
   ],
   "metadata": {
    "collapsed": false,
    "ExecuteTime": {
     "end_time": "2024-10-25T11:00:37.487846Z",
     "start_time": "2024-10-25T11:00:37.207612Z"
    }
   },
   "id": "3bc0568f653bfcc0",
   "execution_count": 420
  },
  {
   "cell_type": "markdown",
   "source": [
    "Полученный датасет будем называть ИСХОДНЫМ (выброшенные на этом этапе признаки не нужно возвращать ни на одном из последующих этапов выполнения задания).\n",
    "\n",
    "*Вычислите число предикторов полученного набора данных.*"
   ],
   "metadata": {
    "collapsed": false
   },
   "id": "9f8fd7fdedd08751"
  },
  {
   "cell_type": "code",
   "outputs": [
    {
     "name": "stdout",
     "output_type": "stream",
     "text": [
      "7\n"
     ]
    }
   ],
   "source": [
    "print(len(data.columns)-1)"
   ],
   "metadata": {
    "collapsed": false,
    "ExecuteTime": {
     "end_time": "2024-10-25T11:00:37.570717Z",
     "start_time": "2024-10-25T11:00:37.231826Z"
    }
   },
   "id": "b1154ef76b64738c",
   "execution_count": 421
  },
  {
   "cell_type": "markdown",
   "source": [
    "*На основе имеющейся статистики оцените вероятность выжить, если пассажир — представитель следующей категории: `female and pclass:1`.*"
   ],
   "metadata": {
    "collapsed": false
   },
   "id": "236c9baa4d9fe965"
  },
  {
   "cell_type": "code",
   "outputs": [
    {
     "name": "stdout",
     "output_type": "stream",
     "text": [
      "0.971\n"
     ]
    }
   ],
   "source": [
    "print(round(data[(data['sex'] == 'female') & (data['pclass'] == 1) & (data['survived'] == 1)].shape[0] / data[(data['sex'] == 'female') & (data['pclass'] == 1)].shape[0], 3))"
   ],
   "metadata": {
    "collapsed": false,
    "ExecuteTime": {
     "end_time": "2024-10-25T11:00:37.840379Z",
     "start_time": "2024-10-25T11:00:37.568120Z"
    }
   },
   "id": "483452d7c6defab7",
   "execution_count": 422
  },
  {
   "cell_type": "markdown",
   "source": [
    "Постройте гистограммы выжиших и невыживших по возрастам.\n",
    "*Введите номер изображения, соответствующего гистограмме распределения выживших по возрастам.*\n"
   ],
   "metadata": {
    "collapsed": false
   },
   "id": "9a6b9467e75e39b0"
  },
  {
   "cell_type": "code",
   "outputs": [
    {
     "data": {
      "text/plain": "<Figure size 640x480 with 1 Axes>",
      "image/png": "[encoded data removed]"
     },
     "metadata": {},
     "output_type": "display_data"
    }
   ],
   "source": [
    "import matplotlib.pyplot as plt\n",
    "plt.hist(data[data['survived'] == 1]['age'], bins = 15)\n",
    "plt.show()"
   ],
   "metadata": {
    "collapsed": false,
    "ExecuteTime": {
     "end_time": "2024-10-25T11:00:38.155670Z",
     "start_time": "2024-10-25T11:00:37.750456Z"
    }
   },
   "id": "89cd7d8fad3fe0f9",
   "execution_count": 423
  },
  {
   "cell_type": "markdown",
   "source": [
    "**2. Модель на основе числовых признаков**\n",
    "\n",
    "**Удаление строк с пропусками**\n",
    "\n",
    "Из исходного датасета отберите только числовые признаки. Удалите строки, содержащие пропуски. При помощи `train_test_split()` разбейте набор данных на обучающую и тестовую выборки с параметрами `test_size=0.2`, `random_state=35`. Используйте стратификацию по колонке `survived`.\n",
    "\n",
    "Обучите модель `LogisticRegression()` со следующими параметрами: `random_state=35`, `max_iter=1000` на тренировочных данных, оцените на тестовых.\n",
    "\n",
    "Вычислите `f1_score` модели на тестовых данных (рекомендуем использовать соответствующую функцию с параметрами по умолчанию)."
   ],
   "metadata": {
    "collapsed": false
   },
   "id": "f89471b6956787ce"
  },
  {
   "cell_type": "code",
   "outputs": [
    {
     "name": "stdout",
     "output_type": "stream",
     "text": [
      "0.518\n"
     ]
    }
   ],
   "source": [
    "from sklearn.model_selection import train_test_split\n",
    "from sklearn.linear_model import LogisticRegression\n",
    "from sklearn.metrics import f1_score\n",
    "\n",
    "new_data = data.dropna()\n",
    "new_data = new_data.drop(new_data.select_dtypes(exclude=['number']).columns, axis=1)\n",
    "\n",
    "def trainAndPredict(data):\n",
    "    X_train, X_test, y_train, y_test = train_test_split(data.drop(\"survived\", axis=1), data[\"survived\"], test_size=0.2, random_state=35, stratify=data['survived'])\n",
    "    model = LogisticRegression(random_state=35, max_iter=1000)\n",
    "    model.fit(X_train, y_train)\n",
    "    y_pred = model.predict(X_test)\n",
    "    print(round(f1_score(y_test, y_pred), 3))\n",
    "    \n",
    "trainAndPredict(new_data)"
   ],
   "metadata": {
    "collapsed": false,
    "ExecuteTime": {
     "end_time": "2024-10-25T11:00:38.156900Z",
     "start_time": "2024-10-25T11:00:38.008464Z"
    }
   },
   "id": "bdc5c649ef4b460a",
   "execution_count": 424
  },
  {
   "cell_type": "markdown",
   "source": [
    "**Заполнение пропусков средним**\n",
    "\n",
    "Из исходного набора данных отберите только числовые признаки, а пропуски заполните средним по столбцу. Далее аналогично: разделение, обучение, оценка.\n",
    "\n",
    "*Вычислите `f1_score()` модели для тестового набора данных.*"
   ],
   "metadata": {
    "collapsed": false
   },
   "id": "c4e2807265ff3d58"
  },
  {
   "cell_type": "code",
   "outputs": [
    {
     "name": "stdout",
     "output_type": "stream",
     "text": [
      "0.483\n"
     ]
    }
   ],
   "source": [
    "new_data = data.apply(lambda col: col.fillna(col.mode()[0]))\n",
    "new_data = new_data.drop(new_data.select_dtypes(exclude=['number']).columns, axis=1)\n",
    "trainAndPredict(new_data)"
   ],
   "metadata": {
    "collapsed": false,
    "ExecuteTime": {
     "end_time": "2024-10-25T11:00:38.158163Z",
     "start_time": "2024-10-25T11:00:38.040003Z"
    }
   },
   "id": "e12809e42e753ca6",
   "execution_count": 425
  },
  {
   "cell_type": "markdown",
   "source": [
    "**Заполнение пропусков на основе обращения**\n",
    "\n",
    "Из исходного набора данных отберите числовые признаки, а также колонку `name`. Создайте отдельную колонку `honorific` и поместите туда значения обращений (`Mr.`, `Mrs.`, `Dr.` и т.д.), извлеченных из колонки `name`.\n",
    "\n",
    "*Вычислите число уникальных обращений.*"
   ],
   "metadata": {
    "collapsed": false
   },
   "id": "527bdd8b5c7ed23"
  },
  {
   "cell_type": "code",
   "outputs": [
    {
     "name": "stdout",
     "output_type": "stream",
     "text": [
      "14\n"
     ]
    }
   ],
   "source": [
    "new_data = data.copy()\n",
    "def findHonorific(name):\n",
    "    start_index = name.find(',') + 2\n",
    "    end_index = name.find('.')\n",
    "    if start_index > 0 and end_index > 0:\n",
    "        return name[start_index:end_index]\n",
    "    return \"\"\n",
    "\n",
    "new_data['honorific'] = new_data['name'].apply(findHonorific)\n",
    "print(len(set(new_data['honorific'])))"
   ],
   "metadata": {
    "collapsed": false,
    "ExecuteTime": {
     "end_time": "2024-10-25T11:00:38.162031Z",
     "start_time": "2024-10-25T11:00:38.085907Z"
    }
   },
   "id": "c8c45c6ed1b8b71f",
   "execution_count": 426
  },
  {
   "cell_type": "markdown",
   "source": [
    "Выполните следующие замены:\n",
    "\n",
    "`Mr` <- `[Rev, Col, Dr, Major, Don, Capt]`\n",
    "\n",
    "`Mrs` <- `[Dona, the Countess]`\n",
    "Замечание: в зависимости от способа извлечения обращения из имени обращение `Countess` может быть извлечено как `the Countess`. Рекомендуем перепроверить ваши результаты.\n",
    "\n",
    "`Miss` <- `[Mlle, Ms]`\n",
    "\n",
    "*Вычислите долю строк со значением `Master` относительно числа всех мужчин.*"
   ],
   "metadata": {
    "collapsed": false
   },
   "id": "a8de44a3bd978810"
  },
  {
   "cell_type": "code",
   "outputs": [
    {
     "name": "stdout",
     "output_type": "stream",
     "text": [
      "0.072\n"
     ]
    }
   ],
   "source": [
    "def replaceHonorific(name):\n",
    "    for old_name in ['Rev', 'Col', 'Dr', 'Major', 'Don', 'Capt']:\n",
    "        if name == old_name:\n",
    "            return \"Mr\"\n",
    "    for old_name in ['Dona', 'the Countess']:\n",
    "        if name == old_name:\n",
    "            return \"Mrs\"\n",
    "    for old_name in ['Mlle', 'Ms']:\n",
    "        if name == old_name:\n",
    "            return \"Miss\"\n",
    "    return name\n",
    "        \n",
    "    \n",
    "new_data['honorific'] = new_data['honorific'].apply(replaceHonorific)\n",
    "print(round(new_data[new_data['honorific'] == 'Master'].shape[0] / new_data[new_data['sex'] == 'male'].shape[0], 3))"
   ],
   "metadata": {
    "collapsed": false,
    "ExecuteTime": {
     "end_time": "2024-10-25T11:00:38.387209Z",
     "start_time": "2024-10-25T11:00:38.172678Z"
    }
   },
   "id": "918c89f2b345ecef",
   "execution_count": 427
  },
  {
   "cell_type": "markdown",
   "source": [
    "*Вычислите средний возраст категории `Master`.*"
   ],
   "metadata": {
    "collapsed": false
   },
   "id": "32d84e3c27e0104e"
  },
  {
   "cell_type": "code",
   "outputs": [
    {
     "name": "stdout",
     "output_type": "stream",
     "text": [
      "5.128\n"
     ]
    }
   ],
   "source": [
    "print(round(new_data[new_data['honorific'] == 'Master']['age'].mean(), 3))"
   ],
   "metadata": {
    "collapsed": false,
    "ExecuteTime": {
     "end_time": "2024-10-25T11:00:38.476043Z",
     "start_time": "2024-10-25T11:00:38.344266Z"
    }
   },
   "id": "d45619b662e6e277",
   "execution_count": 428
  },
  {
   "cell_type": "markdown",
   "source": [
    "Заполните пропуски в колонке age средним, соответствующим среднему категории honorific. Избавьтесь от нечисловых признаков. Далее аналогично: разделение, обучение, оценка.\n",
    "\n",
    "*Вычислите f1_score модели на тестовых данных.*"
   ],
   "metadata": {
    "collapsed": false
   },
   "id": "805e06e6115a5ccc"
  },
  {
   "cell_type": "code",
   "outputs": [
    {
     "name": "stdout",
     "output_type": "stream",
     "text": [
      "0.466\n"
     ]
    }
   ],
   "source": [
    "mean_age = new_data.groupby('honorific')['age'].mean()\n",
    "def fillMissingAge(row, new_age=mean_age):\n",
    "    if pd.isna(row['age']):\n",
    "        return new_age.get(row['honorific'], row['age'])\n",
    "    return row['age']\n",
    "new_data['age'] = new_data.apply(fillMissingAge, axis=1)\n",
    "not_number_keys = new_data.select_dtypes(exclude=['number']).columns\n",
    "new_data.drop(not_number_keys, axis=1, inplace=True)\n",
    "trainAndPredict(new_data)"
   ],
   "metadata": {
    "collapsed": false,
    "ExecuteTime": {
     "end_time": "2024-10-25T11:00:38.545004Z",
     "start_time": "2024-10-25T11:00:38.427766Z"
    }
   },
   "id": "5c01cde9a22a83fc",
   "execution_count": 429
  },
  {
   "cell_type": "markdown",
   "source": [
    "**3. Модель с использованим категориальных признаков**\n",
    "\n",
    "В исходном наборе данных заполните пропуски колонки age значениями на основе обращений (как в предыдущем пункте). После этого выбросите признаки `name` и `honorific`. Они свою функцию выполнили.\n",
    "\n",
    "Произведите `one-hot` кодировние нечисловых признаков, например, с помощью `pd.get_dummies(drop_first=True)`. Далее по знакомой схеме: разделение, обучение, оценка.\n",
    "\n",
    "*Вычислите f1_score модели на тестовых данных.*"
   ],
   "metadata": {
    "collapsed": false
   },
   "id": "b5da13f0a9297f8b"
  },
  {
   "cell_type": "code",
   "outputs": [
    {
     "name": "stdout",
     "output_type": "stream",
     "text": [
      "0.71\n"
     ]
    }
   ],
   "source": [
    "dumnies = pd.get_dummies(data[not_number_keys.drop(['name', 'honorific'])], drop_first=True)\n",
    "new_data = pd.concat([new_data, dumnies], join='inner', axis=1)\n",
    "trainAndPredict(new_data)"
   ],
   "metadata": {
    "collapsed": false,
    "ExecuteTime": {
     "end_time": "2024-10-25T11:00:38.566877Z",
     "start_time": "2024-10-25T11:00:38.486268Z"
    }
   },
   "id": "4dafc859adbc03c9",
   "execution_count": 430
  },
  {
   "cell_type": "markdown",
   "source": [
    "# Задача 2\n",
    "\n",
    "Используя весь датасет из предыдущего задания как обучающий, выполните предсказания для следующего набора данных. В качестве метрики используется f1_score. В зависмости от f1_score ваши баллы за выполнение задания вычисляются согласно следующему соотношению"
   ],
   "metadata": {
    "collapsed": false
   },
   "id": "88dfb750dc50f9c3"
  },
  {
   "cell_type": "code",
   "outputs": [
    {
     "name": "stdout",
     "output_type": "stream",
     "text": [
      "[0, 1, 0, 0, 1, 0, 1, 0, 0, 1, 0, 1, 0, 0, 0, 1, 0, 0, 0, 1, 1, 0, 1, 0, 1, 1, 0, 0, 0, 1, 0, 0, 0, 0, 1, 1, 0, 1, 0, 0, 1, 0, 0, 0, 0, 0, 0, 1, 0, 0, 1, 0, 1, 0, 0, 1, 0, 1, 1, 1, 1, 0, 0, 0, 0, 0, 1, 0, 1, 0, 1, 1, 1, 1, 1, 1, 0, 1, 0, 0, 0, 0, 0, 1, 0, 1, 0, 1, 0, 0, 1, 1, 1, 0, 1, 1, 0, 0, 1, 0, 0, 0, 0, 0, 0, 0, 1, 0, 0, 1, 0, 0, 1, 0, 0, 0, 1, 1, 0, 0, 1, 0, 0, 0, 1, 1, 0, 0, 0, 1, 1, 1, 0, 1, 1, 1, 0, 0, 0, 1, 0, 0, 1, 1, 0, 0, 1, 0, 0, 1, 0, 0, 0, 0, 0, 0, 1, 0, 0, 1, 0, 0, 1, 0, 1, 1, 0, 1, 0, 0, 1, 1, 0, 0, 0, 1, 0, 1, 1, 0, 0, 1, 0, 0, 0, 1, 0, 0, 0, 0, 0, 0, 0, 0, 1, 1, 1, 0, 1, 1, 0, 0, 0, 0, 0, 0, 0, 0, 1, 1, 0, 0, 1, 1, 0, 0, 0, 1, 1, 1, 0, 0, 0, 1, 0, 0, 1, 0, 1, 1, 0, 1, 0, 0, 0, 1, 0, 0, 0, 0, 0, 1, 1, 1, 0, 0, 1, 0, 0, 0, 1, 0, 1, 0, 1, 0, 1, 0, 0, 0, 1, 0, 0, 1, 0, 1, 0, 0, 1, 0, 0, 0, 0, 1, 1, 0, 1, 0, 0, 1, 1, 1, 0, 1, 1, 0, 0, 0, 0, 1, 1, 1, 0, 1, 0, 1, 0, 0, 1, 1, 0, 0, 1, 0, 1, 0, 1, 1, 0, 0, 0, 0, 1, 1, 0, 0, 0, 1, 0, 1, 0, 0, 1, 1, 0, 1, 0, 1]\n"
     ]
    }
   ],
   "source": [
    "def transformData(data):\n",
    "    data['fam_size'] = data['sibsp'] + data['parch']\n",
    "    data.drop(['sibsp', 'parch', 'ticket'], axis=1, inplace=True)\n",
    "    for column in data.columns:\n",
    "        if data[column].isna().sum()/len(data) > 1/3:\n",
    "            data.drop(column, axis=1, inplace=True)\n",
    "            \n",
    "    data['honorific'] = data['name'].apply(findHonorific)\n",
    "    data['honorific'] = data['honorific'].apply(replaceHonorific)\n",
    "    data['age'] = data.apply(lambda row: fillMissingAge(row, new_age=data.groupby('honorific')['age'].mean()), axis=1)\n",
    "    not_number_keys = data.select_dtypes(exclude=['number']).columns\n",
    "    dumnies = pd.get_dummies(data[not_number_keys.drop(['name', 'honorific'])], drop_first=True)\n",
    "    data.drop(not_number_keys, axis=1, inplace=True)\n",
    "    return pd.concat([data, dumnies], join='inner', axis=1)\n",
    "\n",
    "data = pd.read_csv(\"data/titanic_train.csv\")\n",
    "data = transformData(data)\n",
    "X_train = data.drop('survived', axis=1)\n",
    "y_train = data['survived']\n",
    "\n",
    "X_test = pd.read_csv(\"data/titanic_reserved.csv\")\n",
    "X_test = transformData(X_test)\n",
    "\n",
    "model = LogisticRegression(random_state=40, max_iter=1000, penalty=None, class_weight='balanced') # 0.709\n",
    "model.fit(X_train, y_train)\n",
    "# print(round(f1_score(y_train, model.predict(X_train)), 3))\n",
    "y_pred = model.predict(X_test)\n",
    "print([int(i) for i in y_pred])"
   ],
   "metadata": {
    "collapsed": false,
    "ExecuteTime": {
     "end_time": "2024-10-25T11:00:39.495050Z",
     "start_time": "2024-10-25T11:00:38.571880Z"
    }
   },
   "id": "5e536c35ec600afd",
   "execution_count": 431
  }
 ],
 "metadata": {
  "kernelspec": {
   "display_name": "Python 3",
   "language": "python",
   "name": "python3"
  },
  "language_info": {
   "codemirror_mode": {
    "name": "ipython",
    "version": 2
   },
   "file_extension": ".py",
   "mimetype": "text/x-python",
   "name": "python",
   "nbconvert_exporter": "python",
   "pygments_lexer": "ipython2",
   "version": "2.7.6"
  }
 },
 "nbformat": 4,
 "nbformat_minor": 5
}
